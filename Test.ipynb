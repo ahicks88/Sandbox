{
 "nbformat": 4,
 "nbformat_minor": 2,
 "metadata": {
  "language_info": {
   "name": "python",
   "codemirror_mode": {
    "name": "ipython",
    "version": 3
   },
   "version": "3.7.6-final"
  },
  "orig_nbformat": 2,
  "file_extension": ".py",
  "mimetype": "text/x-python",
  "name": "python",
  "npconvert_exporter": "python",
  "pygments_lexer": "ipython3",
  "version": 3,
  "kernelspec": {
   "name": "python3",
   "display_name": "Python 3"
  }
 },
 "cells": [
  {
   "cell_type": "code",
   "execution_count": 2,
   "metadata": {},
   "outputs": [
    {
     "output_type": "stream",
     "name": "stdout",
     "text": "Hello Wolrd\n"
    }
   ],
   "source": [
    "print(\"Hello Wolrd\")\n",
    "# https://reproducible-science-curriculum.github.io/sharing-RR-Jupyter/01-sharing-github/"
   ]
  },
  {
   "cell_type": "code",
   "execution_count": 1,
   "metadata": {
    "tags": []
   },
   "outputs": [
    {
     "output_type": "stream",
     "name": "stdout",
     "text": "test\n"
    }
   ],
   "source": [
    "print('test')"
   ]
  },
  {
   "cell_type": "code",
   "execution_count": 1,
   "metadata": {
    "tags": []
   },
   "outputs": [
    {
     "output_type": "stream",
     "name": "stdout",
     "text": "{'base': 'stations',\n 'clouds': {'all': 40},\n 'cod': 200,\n 'coord': {'lat': 39.74, 'lon': -104.98},\n 'dt': 1600914379,\n 'id': 5419384,\n 'main': {'feels_like': 287.96,\n          'humidity': 21,\n          'pressure': 1021,\n          'temp': 292.89,\n          'temp_max': 295.37,\n          'temp_min': 290.93},\n 'name': 'Denver',\n 'sys': {'country': 'US',\n         'id': 3449,\n         'sunrise': 1600865338,\n         'sunset': 1600908912,\n         'type': 1},\n 'timezone': -21600,\n 'visibility': 10000,\n 'weather': [{'description': 'scattered clouds',\n              'icon': '03n',\n              'id': 802,\n              'main': 'Clouds'}],\n 'wind': {'deg': 140, 'speed': 3.6}}\n"
    }
   ],
   "source": [
    "from pprint import pprint\n",
    "import requests\n",
    "r = requests.get('http://api.openweathermap.org/data/2.5/weather?q=Denver&APPID=3f56cc5e42bee23828e685e9e601059d')\n",
    "pprint(r.json())\n"
   ]
  },
  {
   "cell_type": "code",
   "execution_count": 3,
   "metadata": {
    "tags": []
   },
   "outputs": [
    {
     "output_type": "stream",
     "name": "stdout",
     "text": "Collecting pyowm\n  Downloading pyowm-3.0.0-py3-none-any.whl (3.3 MB)\nRequirement already satisfied: PySocks<2,==1.7.1 in c:\\users\\ahicks88\\anaconda3\\lib\\site-packages (from pyowm) (1.7.1)\nRequirement already satisfied: requests[socks] in c:\\users\\ahicks88\\anaconda3\\lib\\site-packages (from pyowm) (2.22.0)\nCollecting geojson<3,>=2.3.0\n  Downloading geojson-2.5.0-py2.py3-none-any.whl (14 kB)\nRequirement already satisfied: idna<2.9,>=2.5 in c:\\users\\ahicks88\\anaconda3\\lib\\site-packages (from requests[socks]->pyowm) (2.8)\nRequirement already satisfied: urllib3!=1.25.0,!=1.25.1,<1.26,>=1.21.1 in c:\\users\\ahicks88\\anaconda3\\lib\\site-packages (from requests[socks]->pyowm) (1.25.8)\nRequirement already satisfied: chardet<3.1.0,>=3.0.2 in c:\\users\\ahicks88\\anaconda3\\lib\\site-packages (from requests[socks]->pyowm) (3.0.4)\nRequirement already satisfied: certifi>=2017.4.17 in c:\\users\\ahicks88\\anaconda3\\lib\\site-packages (from requests[socks]->pyowm) (2019.11.28)\nInstalling collected packages: geojson, pyowm\nSuccessfully installed geojson-2.5.0 pyowm-3.0.0\nNote: you may need to restart the kernel to use updated packages.\n  WARNING: Retrying (Retry(total=4, connect=None, read=None, redirect=None, status=None)) after connection broken by 'ConnectTimeoutError(<pip._vendor.urllib3.connection.VerifiedHTTPSConnection object at 0x0000022993304808>, 'Connection to files.pythonhosted.org timed out. (connect timeout=15)')': /packages/2b/fa/5869d2a6574279dcf8e184bbc9cc2ea9712299a63275a833469c057aba8d/pyowm-3.0.0-py3-none-any.whl\n  WARNING: Retrying (Retry(total=3, connect=None, read=None, redirect=None, status=None)) after connection broken by 'ConnectTimeoutError(<pip._vendor.urllib3.connection.VerifiedHTTPSConnection object at 0x000002299330A648>, 'Connection to files.pythonhosted.org timed out. (connect timeout=15)')': /packages/2b/fa/5869d2a6574279dcf8e184bbc9cc2ea9712299a63275a833469c057aba8d/pyowm-3.0.0-py3-none-any.whl\n  WARNING: Retrying (Retry(total=2, connect=None, read=None, redirect=None, status=None)) after connection broken by 'ConnectTimeoutError(<pip._vendor.urllib3.connection.VerifiedHTTPSConnection object at 0x000002299331F0C8>, 'Connection to files.pythonhosted.org timed out. (connect timeout=15)')': /packages/2b/fa/5869d2a6574279dcf8e184bbc9cc2ea9712299a63275a833469c057aba8d/pyowm-3.0.0-py3-none-any.whl\n  WARNING: Retrying (Retry(total=1, connect=None, read=None, redirect=None, status=None)) after connection broken by 'ConnectTimeoutError(<pip._vendor.urllib3.connection.VerifiedHTTPSConnection object at 0x0000022993307D88>, 'Connection to files.pythonhosted.org timed out. (connect timeout=15)')': /packages/2b/fa/5869d2a6574279dcf8e184bbc9cc2ea9712299a63275a833469c057aba8d/pyowm-3.0.0-py3-none-any.whl\n  WARNING: Retrying (Retry(total=0, connect=None, read=None, redirect=None, status=None)) after connection broken by 'ConnectTimeoutError(<pip._vendor.urllib3.connection.VerifiedHTTPSConnection object at 0x00000229932A69C8>, 'Connection to files.pythonhosted.org timed out. (connect timeout=15)')': /packages/2b/fa/5869d2a6574279dcf8e184bbc9cc2ea9712299a63275a833469c057aba8d/pyowm-3.0.0-py3-none-any.whl\n"
    }
   ],
   "source": [
    "pip install pyowm"
   ]
  },
  {
   "cell_type": "code",
   "execution_count": 8,
   "metadata": {},
   "outputs": [
    {
     "output_type": "error",
     "ename": "SyntaxError",
     "evalue": "invalid syntax (<ipython-input-8-bdaec5680d5d>, line 4)",
     "traceback": [
      "\u001b[1;36m  File \u001b[1;32m\"<ipython-input-8-bdaec5680d5d>\"\u001b[1;36m, line \u001b[1;32m4\u001b[0m\n\u001b[1;33m    http://history.openweathermap.org/data/2.5/history/Denver?id=2885679&type=hour&appid=3f56cc5e42bee23828e685e9e601059d\u001b[0m\n\u001b[1;37m          ^\u001b[0m\n\u001b[1;31mSyntaxError\u001b[0m\u001b[1;31m:\u001b[0m invalid syntax\n"
     ]
    }
   ],
   "source": [
    "# http://history.openweathermap.org/data/2.5/history/city?q=Denver,US&type=hour&start=1600915241&end=1600915310&appid=3f56cc5e42bee23828e685e9e601059d\n",
    "\n",
    "\n",
    "http://history.openweathermap.org/data/2.5/history/Denver?id=2885679&type=hour&appid=3f56cc5e42bee23828e685e9e601059d\n",
    "# start & end times in unix time format - Use this website to translate: https://www.unixtimestamp.com/index.php"
   ]
  },
  {
   "cell_type": "code",
   "execution_count": 9,
   "metadata": {},
   "outputs": [],
   "source": [
    "#needed to make web requests\n",
    "import requests\n",
    "\n",
    "#store the data we get as a dataframe\n",
    "import pandas as pd\n",
    "\n",
    "#convert the response as a strcuctured json\n",
    "import json\n",
    "\n",
    "#mathematical operations on lists\n",
    "import numpy as np\n",
    "\n",
    "#parse the datetimes we get from NOAA\n",
    "from datetime import datetime\n",
    "\n",
    "#add the access token you got from NOAA\n",
    "Token = 'MXXaTYZKwtfdxRvUGFAdocvOECDNhXnJ'\n",
    "\n",
    "#Long Beach Airport station\n",
    "station_id = 'CDEA2'"
   ]
  }
 ]
}